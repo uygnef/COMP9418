{
 "cells": [
  {
   "cell_type": "markdown",
   "metadata": {},
   "source": [
    "# Naive Bayes Document Classification\n",
    "\n",
    "**COMP9418-17s2, W01 Tutorial**\n",
    "\n",
    "- Instructor: Edwin V. Bonilla\n",
    "- School of Computer Science and Engineering, UNSW Sydney \n",
    "- Questions by Daniel Mackinlay (with input and edits from Edwin V. Bonilla)"
   ]
  },
  {
   "cell_type": "markdown",
   "metadata": {},
   "source": [
    "In this week's tutorial, we will further explore\n",
    "the basis of the Naïve Bayes Classifier.\n",
    "We will use, specifically, the Bernoulli-Dirichlet model for text classification,\n",
    "We will train the model using both the Maximum Likelihood estimates and Bayesian updating,\n",
    "and compare these in terms of predictive success, and in terms of what can go wrong.\n",
    "\n",
    "We will be using the `webkb` dataset.\n",
    "This data set contains web pages collected from computer science departments\n",
    "of various universities in January 1997\n",
    "by the _World Wide Knowledge Base_ project of the _CMU text learning group_.\n",
    "\n",
    "The pages have been manually classified into categories;\n",
    "our goal is to classify documents into those categories using the content of the page.\n",
    "\n",
    "The original data is full HTML files.\n",
    "If you would like to see the original data, or learn more about it,\n",
    "see [the webkb dataset website](http://www.cs.cmu.edu/afs/cs/project/theo-20/www/data/).\n",
    "\n",
    "We have preprocessed a subset of that data into numerical arrays,\n",
    "to which we can apply the classifier directly.\n",
    "(But if you are interested in learning to process the text yourself, feel free to use the original data.)"
   ]
  },
  {
   "cell_type": "markdown",
   "metadata": {},
   "source": [
    "## Technical prerequisites\n",
    "\n",
    "You will need certain packages installed to run this notebook.\n",
    "\n",
    "If you are using ``conda``'s default\n",
    "[full installation](https://conda.io/docs/install/full.html),\n",
    "these requirements should all be satisfied already.\n",
    "\n",
    "If you are using ``virtualenv`` or other native package management,\n",
    "you may need to run these commands:\n",
    "\n",
    "```python\n",
    "pip install scipy matplotlib\n",
    "```\n",
    "\n",
    "You will also need to download the preprocessed `webkb` data set\n",
    "(see file `webkb.npz` in WebCMS3)\n",
    "and put it in the same folder as this notebook."
   ]
  },
  {
   "cell_type": "markdown",
   "metadata": {},
   "source": [
    "Once we have done all that, we\n",
    "import some useful modules for later use."
   ]
  },
  {
   "cell_type": "code",
   "execution_count": 1,
   "metadata": {
    "collapsed": true
   },
   "outputs": [],
   "source": [
    "# Make division default to floating-point, saving confusion\n",
    "from __future__ import division\n",
    "\n",
    "# Necessary libraries\n",
    "import scipy as sp\n",
    "import numpy as np\n",
    "import matplotlib.pyplot as pl\n",
    "\n",
    "# Put the graphs where we can see them\n",
    "%matplotlib inline\n",
    "\n",
    "# Display a warning on important floating-point errors\n",
    "np.seterr(divide='warn', invalid='warn');"
   ]
  },
  {
   "cell_type": "markdown",
   "metadata": {},
   "source": [
    "# The Data\n",
    "\n",
    "## Loading the data\n",
    "\n",
    "These data are in `npz` compressed `numpy` format, which can be loaded using `np.load`.\n",
    "Make sure you have downloaded the data first!"
   ]
  },
  {
   "cell_type": "code",
   "execution_count": 2,
   "metadata": {
    "collapsed": true
   },
   "outputs": [],
   "source": [
    "data = np.load(\n",
    "    'webkb.npz',\n",
    ")\n",
    "\n",
    "# training data\n",
    "xtrain = data['xtrain']\n",
    "ytrain = data['ytrain']\n",
    "\n",
    "# test data\n",
    "xtest = data['xtest']\n",
    "ytest = data['ytest']\n",
    "\n",
    "# which class is which?\n",
    "class_label_strings = data['class_label_strings']\n",
    "\n",
    "# we don't need the original any more\n",
    "del(data)"
   ]
  },
  {
   "cell_type": "markdown",
   "metadata": {},
   "source": [
    "Additionally, here is a useful function for plotting bar charts from this data set."
   ]
  },
  {
   "cell_type": "code",
   "execution_count": 3,
   "metadata": {
    "collapsed": true
   },
   "outputs": [],
   "source": [
    "def categorical_bar(val, **kwargs):\n",
    "    \"\"\"\n",
    "    Convenient categorical bar plot, labelled with the class strings.\n",
    "    This is handy if you want to plot something versus class.\n",
    "    \"\"\"\n",
    "    n_cat = len(class_label_strings)\n",
    "    cat_index = np.arange(n_cat)\n",
    "    bar = pl.bar(cat_index, val, width=1, **kwargs);\n",
    "    pl.xticks(cat_index, class_label_strings)\n",
    "    return bar"
   ]
  },
  {
   "cell_type": "markdown",
   "metadata": {},
   "source": [
    "## Exploring the data"
   ]
  },
  {
   "cell_type": "markdown",
   "metadata": {},
   "source": [
    "The $X$ arrays above are the *features*.\n",
    "Each array is an $N \\times D$ matrix,\n",
    "whose rows correspond to the number of training points-\n",
    "so $N$ is the number of data points,\n",
    "and $D$ is the number of features.\n",
    "\n",
    "The $Y$ arrays, $Y^\\text{train}$ and $Y^\\text{test}$ are $N \\times C$ column vectors,\n",
    "each row containing the one-hot encoded class label of the corresponding training point.\n",
    "\n",
    "The data sets are divided into *training* and *test* sets;\n",
    "We will not be using the test data except to test predictions later in the tutorial.\n",
    "\n",
    "Each data point represents one text _document_ -\n",
    "in this data set, one document equals one web page.\n",
    "The features here are indicators of the presence, or absence, of a word in a given page.\n",
    "So if $X_{ij}=1$, we know that document $i$ contains word $j$.\n",
    "In this data set, however, we do not know which feature corresponds to which word.\n",
    "This is a special case of the _bag of words_ method, and it will allow us to model\n",
    "the document features using Bernoulli random variables.\n",
    "\n",
    "\n",
    "Given that description, we check the data has the size we expect:"
   ]
  },
  {
   "cell_type": "code",
   "execution_count": 6,
   "metadata": {},
   "outputs": [
    {
     "name": "stdout",
     "output_type": "stream",
     "text": [
      "X training data dimensions = (702, 1703)\n",
      "Y training data dimensions = (702, 5)\n",
      "X test data dimensions     = (175, 1703)\n",
      "Y test data dimensions     = (175, 5)\n",
      "Number of y labels         = 5\n"
     ]
    }
   ],
   "source": [
    "print(\"X training data dimensions = {!r}\".format(xtrain.shape))\n",
    "print(\"Y training data dimensions = {!r}\".format(ytrain.shape))\n",
    "print(\"X test data dimensions     = {!r}\".format(xtest.shape))\n",
    "print(\"Y test data dimensions     = {!r}\".format(ytest.shape))\n",
    "print(\"Number of y labels         = {!r}\".format(len(class_label_strings)))\n"
   ]
  },
  {
   "cell_type": "markdown",
   "metadata": {},
   "source": [
    "Next, we inspect the content of the arrays."
   ]
  },
  {
   "cell_type": "markdown",
   "metadata": {},
   "source": [
    "## Features"
   ]
  },
  {
   "cell_type": "markdown",
   "metadata": {},
   "source": [
    "We can plot frequencies of all the features/words."
   ]
  },
  {
   "cell_type": "code",
   "execution_count": 9,
   "metadata": {},
   "outputs": [
    {
     "data": {
      "image/png": "[encoded data removed]",
      "text/plain": [
       "<matplotlib.figure.Figure at 0x26d40f91b38>"
      ]
     },
     "metadata": {},
     "output_type": "display_data"
    }
   ],
   "source": [
    "pl.bar(np.arange(xtrain.shape[1]), np.sum(xtrain, axis=0), width=1);"
   ]
  },
  {
   "cell_type": "markdown",
   "metadata": {},
   "source": [
    "### Exercise\n",
    "\n",
    "Plot the class-conditional features density for two different classes -\n",
    "that is, given, say, class $2$ and class $3$, plot what proportion the examples in each class have which features."
   ]
  },
  {
   "cell_type": "code",
   "execution_count": 13,
   "metadata": {},
   "outputs": [
    {
     "ename": "ValueError",
     "evalue": "incompatible sizes: argument 'height' must be length 1703 or scalar",
     "output_type": "error",
     "traceback": [
      "\u001b[0;31m---------------------------------------------------------------------------\u001b[0m",
      "\u001b[0;31mValueError\u001b[0m                                Traceback (most recent call last)",
      "\u001b[0;32m<ipython-input-13-6e41d0909d03>\u001b[0m in \u001b[0;36m<module>\u001b[0;34m()\u001b[0m\n\u001b[1;32m      2\u001b[0m \u001b[0mx3\u001b[0m \u001b[1;33m=\u001b[0m \u001b[0mxtrain\u001b[0m\u001b[1;33m[\u001b[0m\u001b[0mytrain\u001b[0m\u001b[1;33m[\u001b[0m\u001b[1;33m:\u001b[0m\u001b[1;33m,\u001b[0m \u001b[1;36m3\u001b[0m\u001b[1;33m]\u001b[0m \u001b[1;33m==\u001b[0m \u001b[1;36m1\u001b[0m\u001b[1;33m,\u001b[0m \u001b[1;33m:\u001b[0m\u001b[1;33m]\u001b[0m\u001b[1;33m\u001b[0m\u001b[0m\n\u001b[1;32m      3\u001b[0m \u001b[1;33m\u001b[0m\u001b[0m\n\u001b[0;32m----> 4\u001b[0;31m \u001b[0mpl\u001b[0m\u001b[1;33m.\u001b[0m\u001b[0mbar\u001b[0m\u001b[1;33m(\u001b[0m\u001b[0mnp\u001b[0m\u001b[1;33m.\u001b[0m\u001b[0marange\u001b[0m\u001b[1;33m(\u001b[0m\u001b[0mx2\u001b[0m\u001b[1;33m.\u001b[0m\u001b[0mshape\u001b[0m\u001b[1;33m[\u001b[0m\u001b[1;36m1\u001b[0m\u001b[1;33m]\u001b[0m\u001b[1;33m)\u001b[0m\u001b[1;33m,\u001b[0m \u001b[0mnp\u001b[0m\u001b[1;33m.\u001b[0m\u001b[0mmean\u001b[0m\u001b[1;33m(\u001b[0m\u001b[0mx2\u001b[0m\u001b[1;33m)\u001b[0m\u001b[1;33m,\u001b[0m \u001b[0mwidth\u001b[0m\u001b[1;33m=\u001b[0m\u001b[1;36m1\u001b[0m\u001b[1;33m)\u001b[0m\u001b[1;33m;\u001b[0m\u001b[1;33m\u001b[0m\u001b[0m\n\u001b[0m\u001b[1;32m      5\u001b[0m \u001b[0mpl\u001b[0m\u001b[1;33m.\u001b[0m\u001b[0mbar\u001b[0m\u001b[1;33m(\u001b[0m\u001b[0mnp\u001b[0m\u001b[1;33m.\u001b[0m\u001b[0marange\u001b[0m\u001b[1;33m(\u001b[0m\u001b[0mx3\u001b[0m\u001b[1;33m.\u001b[0m\u001b[0mshape\u001b[0m\u001b[1;33m[\u001b[0m\u001b[1;36m1\u001b[0m\u001b[1;33m]\u001b[0m\u001b[1;33m)\u001b[0m\u001b[1;33m,\u001b[0m \u001b[0mnp\u001b[0m\u001b[1;33m.\u001b[0m\u001b[0mmean\u001b[0m\u001b[1;33m(\u001b[0m\u001b[0mx3\u001b[0m\u001b[1;33m)\u001b[0m\u001b[1;33m,\u001b[0m \u001b[0mwidth\u001b[0m\u001b[1;33m=\u001b[0m\u001b[1;36m1\u001b[0m\u001b[1;33m)\u001b[0m\u001b[1;33m;\u001b[0m\u001b[1;33m\u001b[0m\u001b[0m\n",
      "\u001b[0;32mC:\\Users\\Yu\\Anaconda3\\lib\\site-packages\\matplotlib\\pyplot.py\u001b[0m in \u001b[0;36mbar\u001b[0;34m(left, height, width, bottom, hold, data, **kwargs)\u001b[0m\n\u001b[1;32m   2703\u001b[0m     \u001b[1;32mtry\u001b[0m\u001b[1;33m:\u001b[0m\u001b[1;33m\u001b[0m\u001b[0m\n\u001b[1;32m   2704\u001b[0m         ret = ax.bar(left, height, width=width, bottom=bottom, data=data,\n\u001b[0;32m-> 2705\u001b[0;31m                      **kwargs)\n\u001b[0m\u001b[1;32m   2706\u001b[0m     \u001b[1;32mfinally\u001b[0m\u001b[1;33m:\u001b[0m\u001b[1;33m\u001b[0m\u001b[0m\n\u001b[1;32m   2707\u001b[0m         \u001b[0max\u001b[0m\u001b[1;33m.\u001b[0m\u001b[0m_hold\u001b[0m \u001b[1;33m=\u001b[0m \u001b[0mwashold\u001b[0m\u001b[1;33m\u001b[0m\u001b[0m\n",
      "\u001b[0;32mC:\\Users\\Yu\\Anaconda3\\lib\\site-packages\\matplotlib\\__init__.py\u001b[0m in \u001b[0;36minner\u001b[0;34m(ax, *args, **kwargs)\u001b[0m\n\u001b[1;32m   1889\u001b[0m                     warnings.warn(msg % (label_namer, func.__name__),\n\u001b[1;32m   1890\u001b[0m                                   RuntimeWarning, stacklevel=2)\n\u001b[0;32m-> 1891\u001b[0;31m             \u001b[1;32mreturn\u001b[0m \u001b[0mfunc\u001b[0m\u001b[1;33m(\u001b[0m\u001b[0max\u001b[0m\u001b[1;33m,\u001b[0m \u001b[1;33m*\u001b[0m\u001b[0margs\u001b[0m\u001b[1;33m,\u001b[0m \u001b[1;33m**\u001b[0m\u001b[0mkwargs\u001b[0m\u001b[1;33m)\u001b[0m\u001b[1;33m\u001b[0m\u001b[0m\n\u001b[0m\u001b[1;32m   1892\u001b[0m         \u001b[0mpre_doc\u001b[0m \u001b[1;33m=\u001b[0m \u001b[0minner\u001b[0m\u001b[1;33m.\u001b[0m\u001b[0m__doc__\u001b[0m\u001b[1;33m\u001b[0m\u001b[0m\n\u001b[1;32m   1893\u001b[0m         \u001b[1;32mif\u001b[0m \u001b[0mpre_doc\u001b[0m \u001b[1;32mis\u001b[0m \u001b[1;32mNone\u001b[0m\u001b[1;33m:\u001b[0m\u001b[1;33m\u001b[0m\u001b[0m\n",
      "\u001b[0;32mC:\\Users\\Yu\\Anaconda3\\lib\\site-packages\\matplotlib\\axes\\_axes.py\u001b[0m in \u001b[0;36mbar\u001b[0;34m(self, left, height, width, bottom, **kwargs)\u001b[0m\n\u001b[1;32m   2077\u001b[0m         \u001b[1;32mif\u001b[0m \u001b[0mlen\u001b[0m\u001b[1;33m(\u001b[0m\u001b[0mheight\u001b[0m\u001b[1;33m)\u001b[0m \u001b[1;33m!=\u001b[0m \u001b[0mnbars\u001b[0m\u001b[1;33m:\u001b[0m\u001b[1;33m\u001b[0m\u001b[0m\n\u001b[1;32m   2078\u001b[0m             raise ValueError(\"incompatible sizes: argument 'height' \"\n\u001b[0;32m-> 2079\u001b[0;31m                               \"must be length %d or scalar\" % nbars)\n\u001b[0m\u001b[1;32m   2080\u001b[0m         \u001b[1;32mif\u001b[0m \u001b[0mlen\u001b[0m\u001b[1;33m(\u001b[0m\u001b[0mwidth\u001b[0m\u001b[1;33m)\u001b[0m \u001b[1;33m!=\u001b[0m \u001b[0mnbars\u001b[0m\u001b[1;33m:\u001b[0m\u001b[1;33m\u001b[0m\u001b[0m\n\u001b[1;32m   2081\u001b[0m             raise ValueError(\"incompatible sizes: argument 'width' \"\n",
      "\u001b[0;31mValueError\u001b[0m: incompatible sizes: argument 'height' must be length 1703 or scalar"
     ]
    },
    {
     "data": {
      "image/png": "[encoded data removed]",
      "text/plain": [
       "<matplotlib.figure.Figure at 0x26d42b897b8>"
      ]
     },
     "metadata": {},
     "output_type": "display_data"
    }
   ],
   "source": [
    "x2 = xtrain[ytrain[:, 2] == 1, :]\n",
    "x3 = xtrain[ytrain[:, 3] == 1, :]\n",
    "\n",
    "pl.bar(np.arange(x2.shape[1]), np.mean(x2), width=1);\n",
    "pl.bar(np.arange(x3.shape[1]), np.mean(x3), width=1);"
   ]
  },
  {
   "cell_type": "markdown",
   "metadata": {},
   "source": [
    "## Classes"
   ]
  },
  {
   "cell_type": "markdown",
   "metadata": {},
   "source": [
    "So much for the $X$ arrays. How about the $Y$ arrays?"
   ]
  },
  {
   "cell_type": "markdown",
   "metadata": {
    "collapsed": true
   },
   "source": [
    "### Exercise\n",
    "\n",
    "Plot the number of training documents in each class in the training data.\n",
    "Identify the smallest and largest classes.\n",
    "Are they evenly distributed? What effect will this have on our results?"
   ]
  },
  {
   "cell_type": "code",
   "execution_count": null,
   "metadata": {
    "collapsed": true
   },
   "outputs": [],
   "source": []
  },
  {
   "cell_type": "markdown",
   "metadata": {
    "collapsed": true
   },
   "source": [
    "# Maximum Likelihood Naïve Bayes Classifier"
   ]
  },
  {
   "cell_type": "markdown",
   "metadata": {},
   "source": [
    "## Parameter estimation"
   ]
  },
  {
   "cell_type": "markdown",
   "metadata": {},
   "source": [
    "With regard to the MLE fitting, the classifier is specified by the following parameters\n",
    "\n",
    "- $\\boldsymbol{\\pi}$, where $\\pi_c=p(y=c)$ the marginal probability that a document is in category $c$\n",
    "- $\\boldsymbol{\\theta}$, where $\\theta_{jc}=p(x_{j}=1|y_c=1),$ the class-conditional probability of each feature.\n",
    "\n",
    "\n",
    "We construct ML point estimates of the vector parameters\n",
    "$\\hat{\\boldsymbol{\\pi}}$ \n",
    "and \n",
    "$\\hat{\\boldsymbol{\\theta}}$.\n",
    "\n",
    "The MLE estimates may be calculated as follows (Using the notation of Murphy, 3.5)\n",
    "\n",
    "For the class probabilities,\n",
    "$$\n",
    "\\hat{\\pi}_c=\\frac{N_c}{N},\n",
    "$$\n",
    "where $N_c$ is the number of examples in class $c$.\n",
    "\n",
    "For the conditional feature probabilities,\n",
    "$$\\hat{\\theta}_{jc}=\\frac{N_{jc}}{N_c},$$\n",
    "where $N_{jc}$ is the number of occurrences of feature $j$ in class $c$.\n",
    "\n",
    "Here is a function to calculate this for you:"
   ]
  },
  {
   "cell_type": "code",
   "execution_count": 14,
   "metadata": {
    "collapsed": true
   },
   "outputs": [],
   "source": [
    "def fit_naive_bayes_ml(x, y):\n",
    "    \"\"\"\n",
    "    Given an array of features `x` and an array of labels `y`,\n",
    "    return ML estimates of class probabilities `pi` and\n",
    "    class-conditional feature probabilities `theta`.\n",
    "    \"\"\"\n",
    "    n_class = y.shape[1]\n",
    "    n_feat = x.shape[1]\n",
    "    \n",
    "    pi_counts = np.sum(y, axis=0)\n",
    "    pi = pi_counts/np.sum(pi_counts)\n",
    "    \n",
    "    theta = np.zeros((n_feat, n_class))\n",
    "\n",
    "    for cls in range(n_class):\n",
    "        docs_in_class = (y[:, cls]==1)\n",
    "        class_feat_count = x[docs_in_class, :].sum(axis=0)\n",
    "        theta[:, cls] = class_feat_count/(docs_in_class.sum())\n",
    "    return pi, theta"
   ]
  },
  {
   "cell_type": "code",
   "execution_count": 15,
   "metadata": {
    "collapsed": true
   },
   "outputs": [],
   "source": [
    "pi_hat, theta_hat = fit_naive_bayes_ml(xtrain, ytrain)"
   ]
  },
  {
   "cell_type": "markdown",
   "metadata": {},
   "source": [
    "### Exercise\n",
    "Plot the class probabilites obtained by the ML estimator using the `categorical_bar` function.\n",
    "How different is it from the proportion of classes in each category that we plotted earlier?"
   ]
  },
  {
   "cell_type": "code",
   "execution_count": null,
   "metadata": {
    "collapsed": true
   },
   "outputs": [],
   "source": []
  },
  {
   "cell_type": "markdown",
   "metadata": {},
   "source": [
    "## Prediction"
   ]
  },
  {
   "cell_type": "markdown",
   "metadata": {},
   "source": [
    "Now we implement the class probability predictor, given our parameter estimates.\n",
    "This will involve two functions.\n",
    "One function, `predict_class_prob`, will give the posterior class likelihood for a given document.\n",
    "The second function, `predict_class`,\n",
    "will choose the highest-probability class as a MAP-prediction for a given document.\n",
    "\n",
    "These function are provided for you."
   ]
  },
  {
   "cell_type": "code",
   "execution_count": 16,
   "metadata": {
    "collapsed": true
   },
   "outputs": [],
   "source": [
    "from scipy.misc import logsumexp\n",
    "\n",
    "def predict_class_prob(x, pi, theta):\n",
    "    \"\"\"\n",
    "    Given an single array of features `x`,\n",
    "    class probability estimate `pi` and\n",
    "    class-conditional feature probability estimate `theta`,\n",
    "    return predictive class probabilities.\n",
    "    \"\"\"\n",
    "    class_feat_l = np.zeros_like(theta)\n",
    "    \n",
    "    # calculations in log space to avoid underflow\n",
    "    class_feat_l[x==1, :] = np.log(theta[x==1, :])\n",
    "    class_feat_l[x==0, :] = np.log(1 - theta[x==0, :])\n",
    "    class_l = class_feat_l.sum(axis=0) + np.log(pi)\n",
    "    return np.exp(class_l - logsumexp(class_l))\n",
    "\n",
    "\n",
    "def predict_class(x, pi, theta):\n",
    "    \"\"\"\n",
    "    Given a feature vector `x`, class probabilities `pi`\n",
    "    and class-conditional feature probabilities `theta`,\n",
    "    return a one-hot encoded MAP class-membership prediction.\n",
    "    \"\"\"\n",
    "    probs = predict_class_prob(x, pi, theta)\n",
    "    prediction = np.zeros_like(probs)\n",
    "    prediction[np.argmax(probs)] = 1\n",
    "    return prediction"
   ]
  },
  {
   "cell_type": "markdown",
   "metadata": {},
   "source": [
    "If you implement these predictors using likelihoods without the **log-sum-exp** trick, what happens?"
   ]
  },
  {
   "cell_type": "markdown",
   "metadata": {},
   "source": [
    "Let's look at the some predicted probabilities under this model.\n",
    "\n",
    "Consider the first example from the test set, $X^\\text{test}_{0,:}$.\n",
    "Its true class membership (one-hot encoded) is  $Y^\\text{test}_{0,:}$.\n",
    "We can plot this and see that this document is a \"Student\" web page."
   ]
  },
  {
   "cell_type": "code",
   "execution_count": 17,
   "metadata": {},
   "outputs": [
    {
     "data": {
      "image/png": "[encoded data removed]",
      "text/plain": [
       "<matplotlib.figure.Figure at 0x114d910d0>"
      ]
     },
     "metadata": {},
     "output_type": "display_data"
    }
   ],
   "source": [
    "categorical_bar(ytest[0,:], label=\"$y$\", color='blue');\n"
   ]
  },
  {
   "cell_type": "markdown",
   "metadata": {},
   "source": [
    "### Exercise\n",
    "Plot the predicted class probabilities for the first training example\n",
    "$X^\\text{test}_{0,:}$:"
   ]
  },
  {
   "cell_type": "code",
   "execution_count": null,
   "metadata": {
    "collapsed": true
   },
   "outputs": [],
   "source": []
  },
  {
   "cell_type": "markdown",
   "metadata": {},
   "source": [
    "You may of course repeat this exercise for other examples."
   ]
  },
  {
   "cell_type": "markdown",
   "metadata": {},
   "source": [
    "## Test set performance"
   ]
  },
  {
   "cell_type": "markdown",
   "metadata": {},
   "source": [
    "We can in principle infer class probabilities for any given example.\n",
    "But since we have a lot of these,\n",
    "we will define a helper function to quantify how good our predictions are over a whole data set.\n",
    "\n",
    "We assign a score of $1$ for a correct MAP prediction, or $0$ for an incorrect prediction.\n",
    "The mean of these is a measure of the quality of our predictor."
   ]
  },
  {
   "cell_type": "code",
   "execution_count": 18,
   "metadata": {
    "collapsed": true
   },
   "outputs": [],
   "source": [
    "def predictive_accuracy(xdata, ydata, predictor, *args):\n",
    "    \"\"\"\n",
    "    Given an N-by-D array of features `xdata`,\n",
    "    an N-by-C array of one-hot-encoded true classes `ydata`\n",
    "    and a predictor function `predictor`,\n",
    "    return the proportion of correct predictions.\n",
    "    \n",
    "    We accept an additional argument list `args`\n",
    "    that will be passed to the predictor function.\n",
    "    \"\"\"\n",
    "    correct = np.zeros(xdata.shape[0])\n",
    "    for i, x in enumerate(xdata):\n",
    "        prediction = predictor(x, *args)\n",
    "        correct[i] = np.all(ydata[i, :] == prediction)\n",
    "    return correct.mean()"
   ]
  },
  {
   "cell_type": "markdown",
   "metadata": {},
   "source": [
    "How well did we do?\n",
    "We examine our performance on the held-out test data.\n"
   ]
  },
  {
   "cell_type": "code",
   "execution_count": 19,
   "metadata": {},
   "outputs": [
    {
     "name": "stdout",
     "output_type": "stream",
     "text": [
      "ML Out-of-sample proportion correct: 0.606\n"
     ]
    },
    {
     "name": "stderr",
     "output_type": "stream",
     "text": [
      "/anaconda/lib/python2.7/site-packages/ipykernel/__main__.py:13: RuntimeWarning: divide by zero encountered in log\n",
      "/anaconda/lib/python2.7/site-packages/ipykernel/__main__.py:16: RuntimeWarning: invalid value encountered in subtract\n"
     ]
    }
   ],
   "source": [
    "test_correct_ml = predictive_accuracy(xtest, ytest, predict_class, pi_hat, theta_hat)\n",
    "print(\"ML Out-of-sample proportion correct: {:.3}\".format(test_correct_ml))"
   ]
  },
  {
   "cell_type": "code",
   "execution_count": null,
   "metadata": {
    "collapsed": true
   },
   "outputs": [],
   "source": []
  },
  {
   "cell_type": "markdown",
   "metadata": {},
   "source": [
    "### Exercise\n",
    "Calculate this accuracy metric on the training data.\n",
    "What does it tell us?"
   ]
  },
  {
   "cell_type": "code",
   "execution_count": null,
   "metadata": {
    "collapsed": true
   },
   "outputs": [],
   "source": []
  },
  {
   "cell_type": "markdown",
   "metadata": {},
   "source": [
    "## Diagnosis: What are these warnings about?\n",
    "\n",
    "These results lead to two questions:\n",
    "\n",
    "1. Is the accuracy  any good?\n",
    "2. Do all these  `RuntimeWarning: divide by zero` messages mean anything?\n"
   ]
  },
  {
   "cell_type": "markdown",
   "metadata": {},
   "source": [
    "### Exercise\n",
    "Look at test document number 48.\n",
    "Plot the predicted class probabilites.\n",
    "What is wrong in this case?"
   ]
  },
  {
   "cell_type": "code",
   "execution_count": null,
   "metadata": {
    "collapsed": true
   },
   "outputs": [],
   "source": []
  },
  {
   "cell_type": "markdown",
   "metadata": {},
   "source": [
    "### Exercise\n",
    "Have we over- or under-estimated our predictor's test-set success on the basis of this diagnosis?"
   ]
  },
  {
   "cell_type": "code",
   "execution_count": null,
   "metadata": {
    "collapsed": true
   },
   "outputs": [],
   "source": []
  },
  {
   "cell_type": "markdown",
   "metadata": {},
   "source": [
    "### Exercise\n",
    "Alter the function `predict_class` belo to detect\n",
    "this failure mode, and to return a “likelihood” of $(0 0 0 0 0)$ in this case."
   ]
  },
  {
   "cell_type": "code",
   "execution_count": 22,
   "metadata": {
    "collapsed": true
   },
   "outputs": [],
   "source": [
    "def predict_class(x, pi, theta):\n",
    "    \"\"\"\n",
    "    Given a feature vector `x`, class probabilities `pi`\n",
    "    and class-conditional feature probabilities `theta`,\n",
    "    Return a one-hot encoded class-membership prediction.\n",
    "    If the class probabilities are ill-defined, return a null prediction.\n",
    "    \"\"\"\n",
    "   "
   ]
  },
  {
   "cell_type": "markdown",
   "metadata": {},
   "source": [
    "Note that this doesn't fix the prediction - but it gives us a more realistic perspective on the performance of the estimator.\n",
    "(What other solutions might be better?)\n",
    "\n",
    "**Pro tip**: to keep things tidy now in the notebook, we can disable these `Warning` messages.\n",
    "```\n",
    "np.seterr(divide='ignore', invalid='ignore');\n",
    "```\n",
    "In general, you should _not_ do this unless you have very good reason to think that the warnings are unimportant."
   ]
  },
  {
   "cell_type": "markdown",
   "metadata": {},
   "source": [
    "Now re-test the model without spurious predictions."
   ]
  },
  {
   "cell_type": "code",
   "execution_count": null,
   "metadata": {
    "collapsed": true
   },
   "outputs": [],
   "source": []
  },
  {
   "cell_type": "markdown",
   "metadata": {},
   "source": [
    "# Bayesian Naïve Bayes Classifier"
   ]
  },
  {
   "cell_type": "markdown",
   "metadata": {},
   "source": [
    "We start with, as in the class, a Dirichlet prior for the classes, and an identical Beta prior for each class-conditional feature probability:\n",
    "\n",
    "$$\\begin{aligned}\n",
    "\\boldsymbol{\\pi}&\\sim\\operatorname{Dir}(\\boldsymbol{\\alpha})\\\\\n",
    "\\theta_{jc}&\\sim\\operatorname{Beta}(\\boldsymbol{\\beta}) \\text{ for each }j, c\n",
    "\\end{aligned}$$\n",
    "\n",
    "Note that the parameters of the prior distributions are both vectors,\n",
    "$\\boldsymbol{\\alpha}=(\\alpha_1, \\alpha_2, \\dots, \\alpha_C)$ and $\\boldsymbol{\\beta}=(\\beta_0, \\beta_1).$\n"
   ]
  },
  {
   "cell_type": "markdown",
   "metadata": {},
   "source": [
    "## Posterior updates"
   ]
  },
  {
   "cell_type": "markdown",
   "metadata": {},
   "source": [
    "In a fully Bayesian setting, we would calculate full posteriors for all model parameters.\n",
    "However, in this predictive task, we only use posterior means $\\bar{\\boldsymbol{\\theta}}$\n",
    "and $\\bar{\\boldsymbol{\\pi}}$,\n",
    "so it will be sufficient (and a little bit simpler) to calculate just these.\n",
    "\n",
    "Recall\n",
    "$$\n",
    "\\bar{\\pi}_c=\\frac{N_c+\\alpha_c}{N+\\alpha_0},\n",
    "$$\n",
    "where $\\alpha_0$ means $\\sum_c \\alpha_c.$\n",
    "\n",
    "For the conditional feature probabilities,\n",
    "$$\n",
    "\\bar{\\theta}_{jc}=\\frac{N_{jc}+\\beta_1}{N_c+\\beta_0+\\beta_1}.\n",
    "$$\n"
   ]
  },
  {
   "cell_type": "markdown",
   "metadata": {},
   "source": [
    "### Exercise\n",
    "Below is the skeleton of the function `naive_bayes_posterior_mean`.\n",
    "Fill in the body of this function so that it calculates the desired posterior means.\n",
    "You are recommended to copy `fit_naive_bayes_ml`, above, and modify it."
   ]
  },
  {
   "cell_type": "code",
   "execution_count": 1,
   "metadata": {
    "collapsed": true
   },
   "outputs": [],
   "source": [
    "def naive_bayes_posterior_mean(x, y, alpha=1, beta=1):\n",
    "    \"\"\"\n",
    "    Given an array of features `x`,\n",
    "    an array of labels `y`,\n",
    "    class prior Dirichlet parameter `alpha`, and\n",
    "    common class-conditional feature expectation `beta`\n",
    "    return \n",
    "    \n",
    "    a posterior mean, `pi`, of `alpha` and\n",
    "    a posterior mean, `theta` of the `beta`.\n",
    "    \n",
    "    NB: this is not the same as returning the parameters of the full posterior,\n",
    "    but it is sufficient to calculate the posterior predictive density.\n",
    "    \"\"\"\n",
    "   "
   ]
  },
  {
   "cell_type": "markdown",
   "metadata": {},
   "source": [
    "Now, let's calculate these values.\n",
    "We need to choose our priors.\n",
    "Since we know we would like *some* smoothing in comparison to the ML estimator,\n",
    "we should not not choose uninformative priors.\n",
    "One possible starting point would be $\\boldsymbol{\\alpha}=(1,1,\\dots,1),\\, \\boldsymbol{\\beta}=(1,1).$"
   ]
  },
  {
   "cell_type": "code",
   "execution_count": null,
   "metadata": {
    "collapsed": true
   },
   "outputs": [],
   "source": []
  },
  {
   "cell_type": "markdown",
   "metadata": {},
   "source": [
    "We plot the posterior mean, $\\bar{\\boldsymbol{\\pi}}$:"
   ]
  },
  {
   "cell_type": "code",
   "execution_count": null,
   "metadata": {
    "collapsed": true
   },
   "outputs": [],
   "source": []
  },
  {
   "cell_type": "markdown",
   "metadata": {},
   "source": [
    "## Prediction"
   ]
  },
  {
   "cell_type": "markdown",
   "metadata": {},
   "source": [
    "### Exercise\n",
    "Plot the new class likelihoods on the troublesome test document $48$?\n",
    "Plot the true classification for the document also."
   ]
  },
  {
   "cell_type": "code",
   "execution_count": null,
   "metadata": {
    "collapsed": true
   },
   "outputs": [],
   "source": [
    "\n"
   ]
  },
  {
   "cell_type": "markdown",
   "metadata": {},
   "source": [
    "How do we do over the whole data set? Compute accuracy on test data and on training data."
   ]
  },
  {
   "cell_type": "code",
   "execution_count": null,
   "metadata": {
    "collapsed": true
   },
   "outputs": [],
   "source": []
  },
  {
   "cell_type": "code",
   "execution_count": null,
   "metadata": {
    "collapsed": true
   },
   "outputs": [],
   "source": []
  },
  {
   "cell_type": "markdown",
   "metadata": {},
   "source": [
    "## Comparison of posterior class density between ML and Bayes methods"
   ]
  },
  {
   "cell_type": "markdown",
   "metadata": {},
   "source": [
    "Let's look at the posterior class probabilities."
   ]
  },
  {
   "cell_type": "code",
   "execution_count": null,
   "metadata": {
    "collapsed": true
   },
   "outputs": [],
   "source": [
    "# There will be no visible difference between these!\n",
    "categorical_bar(pi_bar, color='green', alpha=0.5, label=r'$\\bar{\\pi}$');\n",
    "categorical_bar(pi_hat, color='magenta', alpha=0.5, label=r'$\\hat{\\pi}$');\n",
    "pl.legend();"
   ]
  },
  {
   "cell_type": "markdown",
   "metadata": {
    "collapsed": true
   },
   "source": [
    "## Exercise"
   ]
  },
  {
   "cell_type": "markdown",
   "metadata": {},
   "source": [
    "Although the posterior mean $\\bar{\\boldsymbol{\\pi}}$ is very similar using this weakly informative prior, we can observe different densities using different priors.\n",
    "\n",
    "Plot the inferred $\\bar{\\boldsymbol{\\pi}}$ if we start with a prior $\\boldsymbol{\\alpha}=(100,100,\\dots,100).$"
   ]
  },
  {
   "cell_type": "code",
   "execution_count": null,
   "metadata": {
    "collapsed": true
   },
   "outputs": [],
   "source": []
  },
  {
   "cell_type": "code",
   "execution_count": null,
   "metadata": {
    "collapsed": true
   },
   "outputs": [],
   "source": []
  },
  {
   "cell_type": "markdown",
   "metadata": {},
   "source": [
    "## Measure Performance with Test Likelihoods"
   ]
  },
  {
   "cell_type": "markdown",
   "metadata": {},
   "source": [
    "One of the advantages of having probabilistic models is that we actually have probabilities (or uncertainties) on our predictions. Here we will compute the log likelihood of our test data given our models as:"
   ]
  },
  {
   "cell_type": "markdown",
   "metadata": {},
   "source": [
    "$$ \\mathcal{L}_\\text{test}  =  \\frac{1} {N_\\text{test}}\\sum_{i=1}^{N_\\text{test}} \\log p(y^{(i)}_\\text{test} | \\mathbf{x}^{(i)}_\\text{test}) $$"
   ]
  },
  {
   "cell_type": "markdown",
   "metadata": {},
   "source": [
    "We will work with log-likelihoods instead of plain likelihoods unless otherwise stated, since the probabilities involved can be very small."
   ]
  },
  {
   "cell_type": "markdown",
   "metadata": {},
   "source": [
    "### Exercise"
   ]
  },
  {
   "cell_type": "markdown",
   "metadata": {},
   "source": [
    "Write a function `test_likelihood` that receives features, true labels and a probabilistic predictor and return the test (log) likelihood as defined above. HINT: You should write a function similar to `predictive_accuracy` above."
   ]
  },
  {
   "cell_type": "code",
   "execution_count": 26,
   "metadata": {
    "collapsed": true
   },
   "outputs": [],
   "source": [
    "def test_likelihood(xdata, ydata, predictor, *args):\n",
    "    \"\"\"\n",
    "    Given an N-by-D array of features `xdata`,\n",
    "    an N-by-C array of one-hot-encoded true classes `ydata`\n",
    "    and a predictor function `predictor` of probabilities,\n",
    "    return the log likelihood of the test data under that model.\n",
    "    \n",
    "    We accept an additional argument list `args`\n",
    "    that will be passed to the predictor function.\n",
    "    \"\"\"\n"
   ]
  },
  {
   "cell_type": "markdown",
   "metadata": {},
   "source": [
    "Now compute the test likelihoods for the Maximum Likelihood and the Bayesian models, and compare their values."
   ]
  },
  {
   "cell_type": "code",
   "execution_count": null,
   "metadata": {
    "collapsed": true
   },
   "outputs": [],
   "source": []
  },
  {
   "cell_type": "code",
   "execution_count": null,
   "metadata": {
    "collapsed": true
   },
   "outputs": [],
   "source": []
  }
 ],
 "metadata": {
  "kernelspec": {
   "display_name": "Python 3",
   "language": "python",
   "name": "python3"
  },
  "language_info": {
   "codemirror_mode": {
    "name": "ipython",
    "version": 3
   },
   "file_extension": ".py",
   "mimetype": "text/x-python",
   "name": "python",
   "nbconvert_exporter": "python",
   "pygments_lexer": "ipython3",
   "version": "3.6.0"
  },
  "toc": {
   "colors": {
    "hover_highlight": "#DAA520",
    "navigate_num": "#000000",
    "navigate_text": "#333333",
    "running_highlight": "#FF0000",
    "selected_highlight": "#FFD700",
    "sidebar_border": "#EEEEEE",
    "wrapper_background": "#FFFFFF"
   },
   "moveMenuLeft": true,
   "nav_menu": {
    "height": "198px",
    "width": "252px"
   },
   "navigate_menu": true,
   "number_sections": true,
   "sideBar": true,
   "threshold": 4,
   "toc_cell": false,
   "toc_section_display": "block",
   "toc_window_display": true,
   "widenNotebook": false
  }
 },
 "nbformat": 4,
 "nbformat_minor": 2
}
