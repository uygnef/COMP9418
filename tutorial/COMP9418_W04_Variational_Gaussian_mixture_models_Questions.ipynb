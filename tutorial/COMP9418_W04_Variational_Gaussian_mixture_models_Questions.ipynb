{
 "cells": [
  {
   "cell_type": "markdown",
   "metadata": {},
   "source": [
    "# Bayesian Gaussian Mixture Models\n",
    "\n",
    "**COMP9418-17s2, W04 Tutorial**\n",
    "\n",
    "- Instructor: Edwin V. Bonilla\n",
    "- School of Computer Science and Engineering, UNSW Sydney\n",
    "- Questions by Daniel Mackinlay and Edwin V. Bonilla\n"
   ]
  },
  {
   "cell_type": "markdown",
   "metadata": {},
   "source": [
    "In this tutorial we will explore the Bayesian version of the Gaussian Mixture model and its use of expectation maximisation to update parameters.\n",
    "A variational Bayesian Gaussian mixture model is implemented in `scikit-learn` as \n",
    "[BayesianGaussianMixture](http://scikit-learn.org/stable/modules/generated/sklearn.mixture.BayesianGaussianMixture.html)\n",
    "This is very similar to the non-Bayesian case, except we can supply prior distributions for all the parameters.\n",
    "We will explore different priors settings and see their effect on the inferred parameters, and also observe the variational optimisation steps involved in convergence in this model.\n",
    "\n",
    "Our data set will be the classic [Old Faithful dataset](http://www.stat.cmu.edu/~larry/all-of-statistics/=data/faithful.dat). This is mentioned in many places, including Bishop's textbook, and you can read about it there.\n",
    "\n"
   ]
  },
  {
   "cell_type": "markdown",
   "metadata": {},
   "source": [
    "## Technical prerequisites\n",
    "\n",
    "You will need certain packages installed to run this notebook.\n",
    "\n",
    "If you are using ``conda``'s default\n",
    "[full installation](https://conda.io/docs/install/full.html),\n",
    "these requirements should all be satisfied already.\n",
    "\n",
    "If you are using ``virtualenv`` or other native package management,\n",
    "you may need to run these commands:\n",
    "\n",
    "```python\n",
    "pip install scikit-learn seaborn pandas\n",
    "```\n",
    "\n",
    "\n"
   ]
  },
  {
   "cell_type": "markdown",
   "metadata": {},
   "source": [
    "Once we have done all that, we\n",
    "import some useful modules for later use."
   ]
  },
  {
   "cell_type": "code",
   "execution_count": 1,
   "metadata": {
    "collapsed": true
   },
   "outputs": [],
   "source": [
    "# Make division default to floating-point, saving confusion\n",
    "from __future__ import division\n",
    "from __future__ import print_function\n",
    "\n",
    "# Necessary libraries\n",
    "import numpy as np\n",
    "import matplotlib as mpl\n",
    "import matplotlib.pyplot as plt\n",
    "import seaborn as sns\n",
    "import pandas as pd\n",
    "import sklearn\n",
    "\n",
    "# Put the graphs where we can see them\n",
    "%matplotlib inline\n",
    "# make them prettier\n",
    "sns.set(style=\"ticks\")\n",
    "# make them bigger\n",
    "mpl.rcParams['figure.figsize'] = (8.0, 6.0)\n",
    "\n",
    "# easier debugging display\n",
    "np.set_printoptions(edgeitems=5, precision=3, suppress=False)\n"
   ]
  },
  {
   "cell_type": "markdown",
   "metadata": {
    "collapsed": true
   },
   "source": [
    "# Data loading\n"
   ]
  },
  {
   "cell_type": "code",
   "execution_count": 2,
   "metadata": {
    "collapsed": false
   },
   "outputs": [
    {
     "name": "stdout",
     "output_type": "stream",
     "text": [
      "Old Faithful Geyser Data\n",
      "\n",
      "Description: (From R manual):\n",
      "\n",
      "     Waiting time between eruptions and the duration of the eruption\n",
      "     for the Old Faithful geyser in Yellowstone National Park, Wyoming,\n",
      "     USA.\n",
      "\n",
      "     A data frame with 272 observations on 2 variables.\n",
      "\n",
      "eruptions  numeric  Eruption time in mins\n",
      "waiting    numeric  Waiting time to next eruption\n",
      "\n",
      "References:\n",
      "\n",
      "     Hardle, W. (1991) Smoothing Techniques with Implementation in S.\n",
      "     New York: Springer.\n",
      "\n",
      "     Azzalini, A. and Bowman, A. W. (1990). A look at some data on the\n",
      "     Old Faithful geyser. Applied Statistics 39, 357-365.\n",
      "\n",
      "\n",
      "\n",
      "\n",
      "\n"
     ]
    }
   ],
   "source": [
    "with open('faithful.dat') as handle:\n",
    "    # The first 25 lines are text, which we print out but don't use\n",
    "    for i in range(25):\n",
    "        print(handle.readline(), end=\"\")\n",
    "    #  The next part of the file we read using `pandas`\n",
    "    data = pd.read_csv(handle, delim_whitespace=True)\n"
   ]
  },
  {
   "cell_type": "markdown",
   "metadata": {},
   "source": [
    "We'll print the data to see what it looks like"
   ]
  },
  {
   "cell_type": "code",
   "execution_count": 3,
   "metadata": {
    "collapsed": false
   },
   "outputs": [
    {
     "data": {
      "text/html": [
       "<div>\n",
       "<table border=\"1\" class=\"dataframe\">\n",
       "  <thead>\n",
       "    <tr style=\"text-align: right;\">\n",
       "      <th></th>\n",
       "      <th>eruptions</th>\n",
       "      <th>waiting</th>\n",
       "    </tr>\n",
       "  </thead>\n",
       "  <tbody>\n",
       "    <tr>\n",
       "      <th>1</th>\n",
       "      <td>3.600</td>\n",
       "      <td>79</td>\n",
       "    </tr>\n",
       "    <tr>\n",
       "      <th>2</th>\n",
       "      <td>1.800</td>\n",
       "      <td>54</td>\n",
       "    </tr>\n",
       "    <tr>\n",
       "      <th>3</th>\n",
       "      <td>3.333</td>\n",
       "      <td>74</td>\n",
       "    </tr>\n",
       "    <tr>\n",
       "      <th>4</th>\n",
       "      <td>2.283</td>\n",
       "      <td>62</td>\n",
       "    </tr>\n",
       "    <tr>\n",
       "      <th>5</th>\n",
       "      <td>4.533</td>\n",
       "      <td>85</td>\n",
       "    </tr>\n",
       "    <tr>\n",
       "      <th>6</th>\n",
       "      <td>2.883</td>\n",
       "      <td>55</td>\n",
       "    </tr>\n",
       "    <tr>\n",
       "      <th>7</th>\n",
       "      <td>4.700</td>\n",
       "      <td>88</td>\n",
       "    </tr>\n",
       "    <tr>\n",
       "      <th>8</th>\n",
       "      <td>3.600</td>\n",
       "      <td>85</td>\n",
       "    </tr>\n",
       "    <tr>\n",
       "      <th>9</th>\n",
       "      <td>1.950</td>\n",
       "      <td>51</td>\n",
       "    </tr>\n",
       "    <tr>\n",
       "      <th>10</th>\n",
       "      <td>4.350</td>\n",
       "      <td>85</td>\n",
       "    </tr>\n",
       "    <tr>\n",
       "      <th>11</th>\n",
       "      <td>1.833</td>\n",
       "      <td>54</td>\n",
       "    </tr>\n",
       "    <tr>\n",
       "      <th>12</th>\n",
       "      <td>3.917</td>\n",
       "      <td>84</td>\n",
       "    </tr>\n",
       "    <tr>\n",
       "      <th>13</th>\n",
       "      <td>4.200</td>\n",
       "      <td>78</td>\n",
       "    </tr>\n",
       "    <tr>\n",
       "      <th>14</th>\n",
       "      <td>1.750</td>\n",
       "      <td>47</td>\n",
       "    </tr>\n",
       "    <tr>\n",
       "      <th>15</th>\n",
       "      <td>4.700</td>\n",
       "      <td>83</td>\n",
       "    </tr>\n",
       "    <tr>\n",
       "      <th>16</th>\n",
       "      <td>2.167</td>\n",
       "      <td>52</td>\n",
       "    </tr>\n",
       "    <tr>\n",
       "      <th>17</th>\n",
       "      <td>1.750</td>\n",
       "      <td>62</td>\n",
       "    </tr>\n",
       "    <tr>\n",
       "      <th>18</th>\n",
       "      <td>4.800</td>\n",
       "      <td>84</td>\n",
       "    </tr>\n",
       "    <tr>\n",
       "      <th>19</th>\n",
       "      <td>1.600</td>\n",
       "      <td>52</td>\n",
       "    </tr>\n",
       "    <tr>\n",
       "      <th>20</th>\n",
       "      <td>4.250</td>\n",
       "      <td>79</td>\n",
       "    </tr>\n",
       "  </tbody>\n",
       "</table>\n",
       "</div>"
      ],
      "text/plain": [
       "    eruptions  waiting\n",
       "1       3.600       79\n",
       "2       1.800       54\n",
       "3       3.333       74\n",
       "4       2.283       62\n",
       "5       4.533       85\n",
       "6       2.883       55\n",
       "7       4.700       88\n",
       "8       3.600       85\n",
       "9       1.950       51\n",
       "10      4.350       85\n",
       "11      1.833       54\n",
       "12      3.917       84\n",
       "13      4.200       78\n",
       "14      1.750       47\n",
       "15      4.700       83\n",
       "16      2.167       52\n",
       "17      1.750       62\n",
       "18      4.800       84\n",
       "19      1.600       52\n",
       "20      4.250       79"
      ]
     },
     "execution_count": 3,
     "metadata": {},
     "output_type": "execute_result"
    }
   ],
   "source": [
    "data.head(20)"
   ]
  },
  {
   "cell_type": "markdown",
   "metadata": {},
   "source": [
    "It's also useful to notice that `pandas` gives us some simple summary statistics with a one-liner:"
   ]
  },
  {
   "cell_type": "code",
   "execution_count": 4,
   "metadata": {
    "collapsed": false
   },
   "outputs": [
    {
     "data": {
      "text/html": [
       "<div>\n",
       "<table border=\"1\" class=\"dataframe\">\n",
       "  <thead>\n",
       "    <tr style=\"text-align: right;\">\n",
       "      <th></th>\n",
       "      <th>eruptions</th>\n",
       "      <th>waiting</th>\n",
       "    </tr>\n",
       "  </thead>\n",
       "  <tbody>\n",
       "    <tr>\n",
       "      <th>count</th>\n",
       "      <td>272.000000</td>\n",
       "      <td>272.000000</td>\n",
       "    </tr>\n",
       "    <tr>\n",
       "      <th>mean</th>\n",
       "      <td>3.487783</td>\n",
       "      <td>70.897059</td>\n",
       "    </tr>\n",
       "    <tr>\n",
       "      <th>std</th>\n",
       "      <td>1.141371</td>\n",
       "      <td>13.594974</td>\n",
       "    </tr>\n",
       "    <tr>\n",
       "      <th>min</th>\n",
       "      <td>1.600000</td>\n",
       "      <td>43.000000</td>\n",
       "    </tr>\n",
       "    <tr>\n",
       "      <th>25%</th>\n",
       "      <td>2.162750</td>\n",
       "      <td>58.000000</td>\n",
       "    </tr>\n",
       "    <tr>\n",
       "      <th>50%</th>\n",
       "      <td>4.000000</td>\n",
       "      <td>76.000000</td>\n",
       "    </tr>\n",
       "    <tr>\n",
       "      <th>75%</th>\n",
       "      <td>4.454250</td>\n",
       "      <td>82.000000</td>\n",
       "    </tr>\n",
       "    <tr>\n",
       "      <th>max</th>\n",
       "      <td>5.100000</td>\n",
       "      <td>96.000000</td>\n",
       "    </tr>\n",
       "  </tbody>\n",
       "</table>\n",
       "</div>"
      ],
      "text/plain": [
       "        eruptions     waiting\n",
       "count  272.000000  272.000000\n",
       "mean     3.487783   70.897059\n",
       "std      1.141371   13.594974\n",
       "min      1.600000   43.000000\n",
       "25%      2.162750   58.000000\n",
       "50%      4.000000   76.000000\n",
       "75%      4.454250   82.000000\n",
       "max      5.100000   96.000000"
      ]
     },
     "execution_count": 4,
     "metadata": {},
     "output_type": "execute_result"
    }
   ],
   "source": [
    "data.describe()"
   ]
  },
  {
   "cell_type": "markdown",
   "metadata": {},
   "source": [
    "## Exercise\n",
    "Plot the data. How many clusters do you observe? How many mixture components do you think will be optimal for this model?"
   ]
  },
  {
   "cell_type": "code",
   "execution_count": 5,
   "metadata": {
    "collapsed": true
   },
   "outputs": [],
   "source": [
    "# Your code here"
   ]
  },
  {
   "cell_type": "markdown",
   "metadata": {},
   "source": [
    "# Basic Model learning\n"
   ]
  },
  {
   "cell_type": "markdown",
   "metadata": {},
   "source": [
    "The `BayesianGaussianMixture` class has a similar API to the `GaussianMixture` class from the last tutorial, but it has more parameters.\n",
    "We will initialise our model with explicit non-default values for many these parameters to have more control over the  parameters.\n",
    "\n",
    "You should know by now how to read the [online documentation](http://scikit-learn.org/stable/modules/generated/sklearn.mixture.BayesianGaussianMixture.html) for this class and be aware that you can get help for API for a given class or method by using jupyter's built-in help function. Just type in, e.g.\n",
    "```\n",
    "BayesianGaussianMixture?\n",
    "```\n",
    "This should give you an idea of what all the constructor arguments mean.\n",
    "There are many arguments, and we will be using most of them, so it would be a good idea for you to actually read the manual at this point if you have not already done so.\n",
    "\n",
    "At this step the most important thing to notice is that we will not be using the default component weight prior, the Dirichlet process, which we have not yet covered in lectures. Instead, we will use the basic Dirichlet distribution, which we have discussed extensively. This is specified in the `weight_concentration_prior_type` argument.\n",
    "\n",
    "We will be interested in seeing how different values for the prior distribution affect our inference, through the `weight_concentration_prior` argument.\n",
    "\n",
    "You should remember the various important methods of the Gaussian mixture model, which are standard across `scikit-learn`.\n",
    "Start by constructing a basic `BayesianGaussianMixture` object and fitting the data, using a mixture with 10 components:"
   ]
  },
  {
   "cell_type": "code",
   "execution_count": 6,
   "metadata": {
    "collapsed": true
   },
   "outputs": [],
   "source": [
    "from sklearn.mixture import BayesianGaussianMixture\n",
    "\n",
    "mixture_model = BayesianGaussianMixture(\n",
    "    n_components=10,\n",
    "    random_state=5,  # control the pseudo-random initialization\n",
    "    weight_concentration_prior_type='dirichlet_distribution',\n",
    "    weight_concentration_prior=1.0,  # parameter of the Dirichlet component prior\n",
    "    max_iter=200,  # choose this to be big in case it takes a long time to fit\n",
    ")\n",
    "mixture_model.fit(data);\n"
   ]
  },
  {
   "cell_type": "markdown",
   "metadata": {},
   "source": [
    "## Exercise\n",
    "\n",
    "How many parameters does a Dirichlet distribution have for a 10-category model? How many parameters does the `weight_concentration_prior` argument to this model accept with `n_components`=10? Why are these parameter vectors different sizes?"
   ]
  },
  {
   "cell_type": "markdown",
   "metadata": {},
   "source": [
    "# Component weight prior"
   ]
  },
  {
   "cell_type": "markdown",
   "metadata": {},
   "source": [
    "First, we will modify two useful functions from the [scikit-learn documentation](https://scikit-learn.org/stable/auto_examples/mixture/plot_concentration_prior.html), which automate the process of drawing ellipses to visualise \n",
    "the mixture components. You should familiarize yourself with what these functions do - what does the opacity of an ellipse represent?"
   ]
  },
  {
   "cell_type": "code",
   "execution_count": 7,
   "metadata": {
    "collapsed": true
   },
   "outputs": [],
   "source": [
    "import matplotlib.gridspec as gridspec\n",
    "\n",
    "def plot_ellipses(ax, weights, means, covars):\n",
    "    \"\"\"\n",
    "    Given a list of mixture component weights, means, and covariances,\n",
    "    plot ellipses to show the orientation and scale of the Gaussian mixture dispersal.\n",
    "    \"\"\"\n",
    "    for n in range(means.shape[0]):\n",
    "        eig_vals, eig_vecs = np.linalg.eigh(covars[n])\n",
    "        unit_eig_vec = eig_vecs[0] / np.linalg.norm(eig_vecs[0])\n",
    "        angle = np.arctan2(unit_eig_vec[1], unit_eig_vec[0])\n",
    "        # Ellipse needs degrees\n",
    "        angle = 180 * angle / np.pi\n",
    "        # eigenvector normalization\n",
    "        eig_vals = 2 * np.sqrt(2) * np.sqrt(eig_vals)\n",
    "        ell = mpl.patches.Ellipse(\n",
    "            means[n], eig_vals[0], eig_vals[1],\n",
    "            180 + angle,\n",
    "            edgecolor=None,)\n",
    "        ell2 = mpl.patches.Ellipse(\n",
    "            means[n], eig_vals[0], eig_vals[1],\n",
    "            180 + angle,\n",
    "            edgecolor='black',\n",
    "            fill=False,\n",
    "            linewidth=1,)\n",
    "        ell.set_clip_box(ax.bbox)\n",
    "        ell2.set_clip_box(ax.bbox)\n",
    "        ell.set_alpha(weights[n])\n",
    "        ell.set_facecolor('#56B4E9')\n",
    "        ax.add_artist(ell)\n",
    "        ax.add_artist(ell2)\n",
    "\n",
    "        \n",
    "def plot_results(model, x, y, title, plot_title=False):\n",
    "    fig, ax = plt.subplots(3, 1, sharex=False)\n",
    "    gs = gridspec.GridSpec(3, 1)\n",
    "    \n",
    "    ax1 = plt.subplot(gs[0:2, 0])\n",
    "    ax1.set_title(title)\n",
    "    ax1.scatter(x, y, s=5, marker='o', alpha=0.8)\n",
    "    ax1.set_xticks(())\n",
    "    ax1.set_yticks(())\n",
    "    n_components = model.get_params()['n_components']\n",
    "    plot_ellipses(ax1, model.weights_, model.means_,\n",
    "                  model.covariances_)\n",
    "\n",
    "    ax2 = plt.subplot(gs[2, 0])\n",
    "    ax2.get_xaxis().set_tick_params(direction='out')\n",
    "    ax2.yaxis.grid(True, alpha=0.7)\n",
    "    for k, w in enumerate(model.weights_):\n",
    "        ax2.bar(k, w, width=0.9, color='#56B4E9', zorder=3,\n",
    "                align='center', edgecolor='black')\n",
    "        ax2.text(k, w + 0.007, \"%.1f%%\" % (w * 100.),\n",
    "                 horizontalalignment='center')\n",
    "    ax2.set_xlim(-.6, n_components - .4)\n",
    "    ax2.set_ylim(0., 1.1)\n",
    "    ax2.tick_params(axis='y', which='both', left='off',\n",
    "                    right='off', labelleft='off')\n",
    "    ax2.tick_params(axis='x', which='both', top='off')\n",
    "\n",
    "    if plot_title:\n",
    "        ax1.set_ylabel('Estimated Mixtures')\n",
    "        ax2.set_ylabel('Weight of each component')\n"
   ]
  },
  {
   "cell_type": "code",
   "execution_count": 8,
   "metadata": {
    "collapsed": false
   },
   "outputs": [
    {
     "data": {
      "image/png": "[encoded data removed]",
      "text/plain": [
       "<matplotlib.figure.Figure at 0x1066d4c10>"
      ]
     },
     "metadata": {},
     "output_type": "display_data"
    }
   ],
   "source": [
    "plot_results(\n",
    "    mixture_model,\n",
    "    data['eruptions'], data['waiting'],\n",
    "    'weight_concentration_prior={}'.format(1.0))"
   ]
  },
  {
   "cell_type": "markdown",
   "metadata": {},
   "source": [
    "## Exercise\n",
    "\n",
    "Plot the inferred mixture components for `weight_concentration_prior` values of $(0.1, 1.0, 10.0, 100.0)$. What difference does this make to the inferred model?\n",
    "(If you want to start a new plot, use `plt.figure()`)"
   ]
  },
  {
   "cell_type": "code",
   "execution_count": 9,
   "metadata": {
    "collapsed": true,
    "scrolled": false
   },
   "outputs": [],
   "source": [
    "# Your code here"
   ]
  },
  {
   "cell_type": "markdown",
   "metadata": {},
   "source": [
    "# Gaussian component priors"
   ]
  },
  {
   "cell_type": "markdown",
   "metadata": {},
   "source": [
    "## Exercise\n",
    "Read the documentation for the model constructor argument `covariance_prior`.\n",
    "The default value is data-dependent - what value does it take for this data set?\n"
   ]
  },
  {
   "cell_type": "code",
   "execution_count": 10,
   "metadata": {
    "collapsed": true
   },
   "outputs": [],
   "source": [
    "# Your code here"
   ]
  },
  {
   "cell_type": "markdown",
   "metadata": {},
   "source": [
    "## Exercise\n",
    "Try fitting the model with different values of the `covariance_prior`. Use *spherical* covariance, where all terms on the diagonal are the same and all off-diagonal terms are zero. How does this change our model fit? Why is the effect different on the `eruptions` and `waiting` axes?\n",
    "\n",
    "Tip: if you want an identity matrix, the command `np.eye` will produce it for you."
   ]
  },
  {
   "cell_type": "code",
   "execution_count": 11,
   "metadata": {
    "collapsed": true,
    "scrolled": false
   },
   "outputs": [],
   "source": [
    "# Your code here"
   ]
  },
  {
   "cell_type": "markdown",
   "metadata": {},
   "source": [
    "## Exercise\n",
    "Next, read the documentation for the `mean_prior` and `mean_precision_prior`.\n",
    "Try different values of the `mean_precision_prior` with `mean_prior=(2.0, 50.0)`.\n",
    "How many means does this model use? Why do we specify only one mean prior value?"
   ]
  },
  {
   "cell_type": "code",
   "execution_count": 12,
   "metadata": {
    "collapsed": true,
    "scrolled": false
   },
   "outputs": [],
   "source": [
    "# Your code here"
   ]
  },
  {
   "cell_type": "markdown",
   "metadata": {},
   "source": [
    "# Expectation maximisation steps"
   ]
  },
  {
   "cell_type": "markdown",
   "metadata": {},
   "source": [
    "By default, the `BayesianGaussianMixture` fitting procedure continues until “convergence”, when the fit is “good enough”.\n",
    "If we are interested in knowing more about the model fit we can use the `verbose` argument to the model constructor, which will print some debug messages.\n",
    "\n",
    "However, we can get still more details by examining each individual step of the procedure by setting the model to only do one EM step at a time, by using the arguments `max_iter` and `warm_start`, which, respectively, restrict the number of EM steps and allow us to continue fitting the model.\n"
   ]
  },
  {
   "cell_type": "markdown",
   "metadata": {},
   "source": [
    "## Exercise\n",
    "\n",
    "Fit the model again with your choice of priors. However, this time, record the values of the lower bound (the `lower_bound_` member on the mixture model object) and plot their convergence. Plot the model fit for several different stages of the convergence.\n",
    "\n",
    "*Tip 1*: The member `converged_` tells you whether a model has converged or not.\n",
    "\n",
    "*Tip 2*: Don't plot every step of the model fit, or you will have too many graphs to easily display."
   ]
  },
  {
   "cell_type": "code",
   "execution_count": 14,
   "metadata": {
    "collapsed": false,
    "scrolled": false
   },
   "outputs": [
    {
     "ename": "IndentationError",
     "evalue": "expected an indented block (<ipython-input-14-6616b71974f3>, line 11)",
     "output_type": "error",
     "traceback": [
      "\u001b[0;36m  File \u001b[0;32m\"<ipython-input-14-6616b71974f3>\"\u001b[0;36m, line \u001b[0;32m11\u001b[0m\n\u001b[0;31m    # Your code here\u001b[0m\n\u001b[0m                    ^\u001b[0m\n\u001b[0;31mIndentationError\u001b[0m\u001b[0;31m:\u001b[0m expected an indented block\n"
     ]
    }
   ],
   "source": [
    "lower_bounds = []\n",
    "mixture_model = BayesianGaussianMixture(\n",
    "    n_components=10,\n",
    "    covariance_type='full',\n",
    "    max_iter=1,\n",
    "    random_state=2,\n",
    "    weight_concentration_prior_type='dirichlet_distribution',\n",
    "    warm_start=True,\n",
    ")\n",
    "for i in range(200):\n",
    "    # Your code here"
   ]
  },
  {
   "cell_type": "markdown",
   "metadata": {},
   "source": [
    "## Exercise\n",
    "\n",
    "How sensitive is this convergence to the initialization we chose for the model? Plot several lower bound curves for 5 different random initialisations and compare.\n"
   ]
  },
  {
   "cell_type": "code",
   "execution_count": null,
   "metadata": {
    "collapsed": true
   },
   "outputs": [],
   "source": [
    "# Your code here"
   ]
  }
 ],
 "metadata": {
  "kernelspec": {
   "display_name": "Python 2",
   "language": "python",
   "name": "python2"
  },
  "language_info": {
   "codemirror_mode": {
    "name": "ipython",
    "version": 2
   },
   "file_extension": ".py",
   "mimetype": "text/x-python",
   "name": "python",
   "nbconvert_exporter": "python",
   "pygments_lexer": "ipython2",
   "version": "2.7.10"
  },
  "toc": {
   "colors": {
    "hover_highlight": "#DAA520",
    "navigate_num": "#000000",
    "navigate_text": "#333333",
    "running_highlight": "#FF0000",
    "selected_highlight": "#FFD700",
    "sidebar_border": "#EEEEEE",
    "wrapper_background": "#FFFFFF"
   },
   "moveMenuLeft": true,
   "nav_menu": {
    "height": "198px",
    "width": "252px"
   },
   "navigate_menu": true,
   "number_sections": true,
   "sideBar": true,
   "threshold": 4,
   "toc_cell": false,
   "toc_position": {
    "height": "625px",
    "left": "0px",
    "right": "1067.67px",
    "top": "107px",
    "width": "212px"
   },
   "toc_section_display": "block",
   "toc_window_display": true,
   "widenNotebook": false
  }
 },
 "nbformat": 4,
 "nbformat_minor": 2
}
