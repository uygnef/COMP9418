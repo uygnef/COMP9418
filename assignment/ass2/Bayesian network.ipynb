{
 "cells": [
  {
   "cell_type": "code",
   "execution_count": 1,
   "metadata": {
    "collapsed": true
   },
   "outputs": [],
   "source": [
    "%matplotlib inline\n",
    "import matplotlib.pyplot as plt\n",
    "import numpy as np\n",
    "import seaborn as sns\n",
    "import tensorflow as tf\n",
    "from edward.models import Categorical, Normal\n",
    "import edward as ed\n",
    "import pandas as pd\n",
    "from scipy.io import loadmat\n",
    "import scipy.io as sio   \n",
    "\n",
    "# load data\n",
    "matfn = 'trajectories_xtest.mat'\n",
    "data = sio.loadmat(matfn)  \n"
   ]
  },
  {
   "cell_type": "code",
   "execution_count": 36,
   "metadata": {},
   "outputs": [
    {
     "name": "stdout",
     "output_type": "stream",
     "text": [
      "11 1 1\n",
      "7 7 7\n",
      "16 16 16\n",
      "15 15 15\n",
      "1 1 1\n",
      "13 13 13\n",
      "12 12 12\n",
      "16 16 16\n",
      "11 0 0\n",
      "4 4 4\n",
      "17 17 17\n",
      "14 14 14\n",
      "8 8 8\n",
      "15 15 15\n",
      "3 3 3\n",
      "8 8 8\n",
      "9 9 9\n",
      "13 13 13\n",
      "3 3 3\n",
      "4 4 4\n",
      "11 11 11\n",
      "19 5 19\n",
      "10 10 10\n",
      "5 7 7\n",
      "16 16 16\n",
      "4 4 4\n",
      "19 19 19\n",
      "13 15 15\n",
      "4 4 4\n",
      "11 11 11\n",
      "11 11 11\n",
      "4 4 4\n",
      "3 3 3\n",
      "12 12 12\n",
      "2 2 2\n",
      "5 5 5\n",
      "12 12 12\n",
      "16 16 16\n",
      "14 14 14\n",
      "16 16 16\n",
      "17 17 17\n",
      "7 7 7\n",
      "3 3 3\n",
      "19 19 19\n",
      "11 11 11\n",
      "18 18 18\n",
      "5 5 5\n",
      "7 7 7\n",
      "19 19 19\n",
      "8 8 8\n",
      "13 13 13\n",
      "5 5 5\n",
      "0 0 0\n",
      "3 3 3\n",
      "16 16 16\n",
      "3 3 3\n",
      "4 4 4\n",
      "14 14 14\n",
      "4 4 4\n",
      "13 9 13\n",
      "6 6 6\n",
      "11 10 10\n",
      "9 9 9\n",
      "15 15 15\n",
      "1 1 1\n",
      "14 14 14\n",
      "11 10 10\n",
      "6 6 6\n",
      "12 12 12\n",
      "18 18 18\n",
      "5 5 5\n",
      "14 14 14\n",
      "5 5 5\n",
      "0 0 0\n",
      "9 9 9\n",
      "9 9 9\n",
      "7 7 7\n",
      "19 19 19\n",
      "14 14 14\n",
      "11 11 11\n",
      "6 6 6\n",
      "19 19 19\n",
      "15 15 15\n",
      "13 13 13\n",
      "15 15 15\n",
      "11 0 0\n",
      "4 4 4\n",
      "14 14 14\n",
      "2 2 2\n",
      "16 16 16\n",
      "4 4 4\n",
      "4 4 4\n",
      "5 5 5\n",
      "11 11 11\n",
      "1 1 1\n",
      "18 18 18\n",
      "16 15 15\n",
      "12 12 12\n",
      "4 4 4\n",
      "6 6 6\n"
     ]
    }
   ],
   "source": [
    "import pickle\n",
    "file = open('x_prob_lst', 'rb')\n",
    "x_prob_lst = pickle.load(file)\n",
    "xfile = open('y_prob_lst', 'rb')\n",
    "y_prob_lst = pickle.load(xfile)\n",
    "xfile = open('z_prob_lst', 'rb')\n",
    "z_prob_lst = pickle.load(xfile)\n",
    "e = 0\n",
    "\n",
    "result = []\n",
    "for i in range(len(x_prob_lst[0])):\n",
    "    result.append((x_prob_lst[0][i] + y_prob_lst[0][i] + 2 * z_prob_lst[0][i])/4)\n",
    "\n",
    "for i in range(100):\n",
    "    print(np.argmax(x_prob_lst[0][i]), np.argmax(y_prob_lst[0][i]), np.argmax(z_prob_lst[0][i]))"
   ]
  },
  {
   "cell_type": "code",
   "execution_count": 42,
   "metadata": {},
   "outputs": [
    {
     "name": "stdout",
     "output_type": "stream",
     "text": [
      "[  5.70973491e-09   8.35413575e-01   2.48845098e-16   2.70130823e-24\n",
      "   1.43831780e-16   8.05558784e-07   7.17853294e-12   1.93417046e-10\n",
      "   1.60661546e-08   9.27302055e-11   1.14584991e-12   1.64585546e-01\n",
      "   9.10040679e-15   1.87140123e-10   8.36718802e-12   2.99452734e-25\n",
      "   3.08580800e-16   7.34465298e-20   5.91273096e-16   6.41769547e-15]\n",
      "[  3.17546271e-12   3.72269541e-01   8.12807522e-16   8.66758395e-24\n",
      "   1.14396785e-20   3.15795637e-06   4.36557208e-17   6.40218044e-12\n",
      "   1.08984063e-16   1.58939179e-15   3.31862499e-21   6.27727270e-01\n",
      "   1.09981538e-21   2.66133686e-13   1.97243883e-15   8.78283278e-34\n",
      "   7.26179133e-16   2.93779890e-19   1.12810048e-24   1.86600046e-23]\n",
      "[  2.28357617e-08   9.99005139e-01   1.50808724e-17   2.11870369e-24\n",
      "   5.74004318e-16   4.81035194e-08   2.87129816e-11   7.67265973e-10\n",
      "   6.42636309e-08   3.70915937e-10   5.45105216e-15   9.94759728e-04\n",
      "   5.62317251e-20   8.07413557e-14   1.86845128e-17   5.08318552e-31\n",
      "   5.08144065e-16   6.12422106e-24   2.36509238e-15   9.66976783e-24]\n",
      "[  7.44881144e-16   9.85189855e-01   8.37460019e-17   9.47247304e-27\n",
      "   6.55681360e-19   8.08751821e-09   5.53158201e-16   2.33654204e-17\n",
      "   4.93220644e-13   1.65737656e-15   2.28897435e-12   1.48100993e-02\n",
      "   1.82007848e-14   3.74106801e-10   1.67333803e-11   5.98905221e-25\n",
      "   1.91072351e-23   4.76602365e-26   1.70958323e-37   1.28353909e-14]\n"
     ]
    }
   ],
   "source": [
    "i= 0\n",
    "print((x_prob_lst[0][i] + y_prob_lst[0][i] + 2 * z_prob_lst[0][i])/4)\n",
    "print(x_prob_lst[0][i])\n",
    "print(y_prob_lst[0][i])\n",
    "print(z_prob_lst[0][i])"
   ]
  },
  {
   "cell_type": "code",
   "execution_count": 86,
   "metadata": {},
   "outputs": [],
   "source": [
    "import math\n",
    "import sys\n",
    "with open('predictions.txt', 'w') as file:\n",
    "    for i in result:\n",
    "        for j in i:\n",
    "            if j == 0.0:\n",
    "                file.write(str(math.log(sys.float_info.min)) + \",\")\n",
    "            else:\n",
    "                file.write(str(math.log(j)) + \",\")\n",
    "        file.write('\\n')"
   ]
  },
  {
   "cell_type": "code",
   "execution_count": 89,
   "metadata": {},
   "outputs": [
    {
     "name": "stdout",
     "output_type": "stream",
     "text": [
      "1 7 16 15 1 13 12 16 0 4 17 14 8 15 3 8 9 13 3 4 11 19 10 7 16 4 19 15 4 11 11 4 3 12 2 5 12 16 14 16 17 7 3 19 11 18 5 7 19 8 13 5 0 3 16 3 4 14 4 13 6 10 9 15 1 14 10 6 12 18 5 14 5 0 9 9 7 19 14 11 6 19 15 13 15 0 4 14 2 16 4 4 5 11 1 18 15 12 4 6 12 4 13 14 2 18 4 8 3 4 0 3 9 8 11 6 14 0 7 8 0 17 2 13 7 12 17 12 1 3 11 5 5 10 14 7 4 10 6 5 11 1 15 7 18 5 16 8 17 17 3 12 6 0 13 19 18 1 19 18 7 8 11 0 10 16 16 13 16 14 11 7 16 17 8 6 4 9 13 3 5 5 15 9 13 11 19 12 7 8 6 5 17 15 4 14 15 11 15 17 4 7 0 1 12 13 10 5 3 18 12 0 3 18 5 10 0 4 11 9 16 4 17 0 12 19 7 19 4 2 16 19 1 10 16 3 8 14 8 8 3 14 0 2 8 7 1 2 1 18 2 17 5 11 1 15 19 1 11 8 1 0 9 6 16 13 0 15 5 7 10 19 5 11 4 8 4 18 19 4 19 9 4 13 19 15 9 9 4 2 15 0 4 18 0 0 1 4 10 1 2 6 9 4 19 2 3 3 19 9 5 2 4 13 13 13 3 17 16 19 12 8 3 9 4 2 0 15 7 6 1 18 10 16 10 9 11 1 16 19 2 12 2 4 4 2 8 17 8 6 13 16 6 7 3 16 4 19 18 5 0 17 9 14 19 8 0 16 19 9 16 9 3 19 14 9 18 13 4 19 0 19 12 19 15 4 6 11 4 7 19 9 2 15 5 0 9 0 1 18 14 18 11 18 2 6 14 16 5 19 11 0 6 7 6 0 6 19 14 9 18 6 8 6 13 13 3 1 5 12 7 14 7 16 8 16 14 15 10 11 15 8 0 10 16 10 2 7 12 8 7 12 8 11 8 19 16 19 16 16 15 7 10 0 14 6 11 6 17 13 7 9 16 6 18 1 8 14 15 10 7 15 18 18 13 15 19 2 12 7 9 11 16 9 11 16 18 4 7 17 8 6 1 15 6 7 2 12 3 1 7 14 16 14 18 5 1 5 0 5 3 10 12 2 4 10 3 7 19 13 6 18 10 15 15 4 15 4 8 12 14 17 16 4 19 9 4 1 7 17 1 17 15 11 1 0 11 11 14 4 2 15 17 5 0 5 3 7 5 4 13 1 1 16 19 16 10 1 2 16 2 4 13 9 16 4 1 9 16 17 2 7 6 3 10 0 6 13 16 0 1 18 3 1 7 1 18 3 0 17 11 4 3 19 15 12 3 9 11 3 10 19 10 9 18 4 19 19 12 14 14 8 19 4 2 13 18 16 1 2 1 15 3 12 15 11 11 4 19 16 4 4 7 12 14 16 14 4 16 11 18 5 17 17 15 3 14 10 2 18 10 5 1 5 16 19 8 7 0 19 13 1 10 19 0 2 7 15 8 18 11 16 15 4 12 15 5 5 8 1 8 9 5 14 0 13 13 7 11 0 13 13 9 14 19 7 16 0 3 10 2 11 4 0 17 6 12 7 19 1 14 11 4 16 4 14 4 12 0 1 4 10 19 3 0 1 10 2 6 8 1 9 12 17 19 1 5 11 17 10 10 11 2 4 1 0 16 5 8 12 18 9 11 16 1 13 17 4 0 7 3 14 4 4 9 11 7 3 12 12 8 18 1 1 12 17 2 3 1 9 13 7 14 3 1 4 19 17 15 3 3 1 2 9 5 7 7 17 16 1 11 8 2 3 4 10 7 16 10 8 0 13 9 18 0 7 8 7 13 19 17 10 2 7 1 17 13 0 3 18 14 14 9 12 3 9 2 14 0 5 15 15 7 1 19 12 2 19 7 14 16 19 19 15 17 9 16 19 15 13 5 11 10 15 7 7 19 3 4 8 10 19 2 3 15 3 18 7 4 18 16 15 0 7 0 10 8 14 6 10 1 7 7 10 11 1 18 14 13 3 4 5 17 15 10 11 4 16 19 19 8 6 16 2 19 3 3 10 8 9 8 2 2 19 13 1 19 18 11 19 17 16 1 16 12 2 5 5 17 17 3 13 8 14 13 12 17 13 8 6 9 10 18 5 2 13 18 9 5 5 16 2 10 12 19 0 7 11 14 14 0 1 13 4 0 18 15 2 15 18 16 0 0 19 0 14 16 18 9 14 12 15 6 1 19 17 4 0 1 5 17 11 14 15 13 6 3 16 18 8 16 9 10 10 13 1 12 5 3 14 10 11 19 2 10 5 10 4 4 9 3 19 7 4 19 14 13 6 5 16 13 12 17 14 3 8 8 16 19 19 4 11 14 0 8 4 14 13 2 17 4 1 2 4 19 0 8 12 15 0 4 9 3 16 19 13 14 8 1 15 9 6 4 2 6 6 1 6 18 13 11 5 3 18 4 4 5 5 12 3 17 18 0 10 18 2 0 4 12 7 11 0 17 14 14 1 4 15 2 5 17 0 3 13 11 10 5 9 12 1 11 0 0 5 1 11 8 0 17 7 11 18 17 9 18 16 3 2 18 6 18 18 16 2 18 19 10 19 2 3 10 17 16 1 7 18 17 19 17 0 6 7 18 11 13 19 4 5 5 1 5 5 2 17 19 6 14 0 7 13 2 18 18 5 16 4 19 16 6 8 0 11 16 1 11 16 5 8 8 6 6 19 1 3 19 8 2 19 1 19 19 19 18 5 19 16 3 5 15 19 0 16 16 15 7 9 6 1 7 16 12 0 17 0 5 10 10 7 0 9 3 6 4 12 1 4 3 14 12 8 3 14 5 18 9 13 9 7 1 15 1 11 14 8 8 12 14 2 4 11 16 15 7 1 3 7 6 13 1 2 7 0 7 5 6 0 12 10 5 16 1 18 7 1 12 12 4 15 10 18 16 11 7 9 5 16 14 16 12 8 3 16 11 10 16 4 0 19 0 18 5 17 10 19 12 11 2 16 11 16 19 18 6 8 18 11 15 1 5 10 6 6 0 4 6 7 4 10 7 5 5 9 3 18 2 16 14 3 6 17 17 4 15 0 2 8 1 2 17 13 15 10 5 10 0 16 7 15 6 11 5 9 9 15 2 17 11 8 8 11 0 19 10 10 8 16 12 13 11 "
     ]
    }
   ],
   "source": [
    "f = open('predictions.txt', 'r')\n",
    "line = f.readline()\n",
    "while line:\n",
    "    a = line\n",
    "    a = a.strip().split(',')[:-1]\n",
    "    c = [float(i) for i in a]\n",
    "    print(np.argmax(c), end=' ')\n",
    "    line = f.readline()\n",
    "    \n",
    "    "
   ]
  },
  {
   "cell_type": "code",
   "execution_count": 2,
   "metadata": {},
   "outputs": [
    {
     "name": "stdout",
     "output_type": "stream",
     "text": [
      "1429\n",
      "205\n"
     ]
    }
   ],
   "source": [
    "# make all data be the same size \n",
    "\n",
    "def padding(data):\n",
    "    max_len = max([ i.shape[-1] for i in data['xtrain'][0]])\n",
    "\n",
    "    trans_data = []\n",
    "    for i in data['xtrain'][0]:\n",
    "        i = i.reshape(-1,3)\n",
    "        len_ = i.shape[0]\n",
    "\n",
    "        # padding for shorter data.\n",
    "        if max_len - len_:\n",
    "            trans_data.append(np.vstack(( i, [i[-1]] * (max_len- len_)))) \n",
    "        else:\n",
    "            trans_data.append(i)\n",
    "    return np.array(trans_data)\n",
    "\n",
    "a = padding(data)\n",
    "print(len(a))\n",
    "print(len(a[0]))"
   ]
  },
  {
   "cell_type": "code",
   "execution_count": 23,
   "metadata": {},
   "outputs": [
    {
     "name": "stdout",
     "output_type": "stream",
     "text": [
      "(1429, 205, 3)\n",
      "(1, 1429)\n"
     ]
    },
    {
     "data": {
      "text/plain": [
       "array([ 2,  8, 17], dtype=uint8)"
      ]
     },
     "execution_count": 23,
     "metadata": {},
     "output_type": "execute_result"
    }
   ],
   "source": [
    "# load data\n",
    "xtrain = padding(data)\n",
    "ytrain = data['ytrain']\n",
    "\n",
    "print(xtrain.shape)\n",
    "print(ytrain.shape)\n",
    "ytrain[0][0:3]"
   ]
  },
  {
   "cell_type": "code",
   "execution_count": 4,
   "metadata": {},
   "outputs": [
    {
     "name": "stdout",
     "output_type": "stream",
     "text": [
      "(0, 205, 3)\n"
     ]
    },
    {
     "data": {
      "text/plain": [
       "(1429, 205, 3)"
      ]
     },
     "execution_count": 4,
     "metadata": {},
     "output_type": "execute_result"
    }
   ],
   "source": [
    "a = xtrain[1428:] + xtrain[:0]\n",
    "print(a.shape)\n",
    "xtrain.shape"
   ]
  },
  {
   "cell_type": "code",
   "execution_count": 6,
   "metadata": {},
   "outputs": [
    {
     "name": "stdout",
     "output_type": "stream",
     "text": [
      "(1429, 205, 3)\n"
     ]
    }
   ],
   "source": [
    "# get next minibatch\n",
    "def get_next(i, batch_size):\n",
    "    if i+batch_size < xtrain.shape[0]:\n",
    "        end = i + batch_size\n",
    "        x = x_[i:end]\n",
    "        y = ytrain[0][i:end]\n",
    "    else:\n",
    "        end = xtrain.shape[0] - i + batch_size\n",
    "        x = x_[i:] + x_[:end]\n",
    "        y = ytrain[0][i:] + ytrain[0][:end]\n",
    "    return x, y, i\n",
    "\n",
    "# TODO: use np.hsplit???\n",
    "def sperate_x_y_z(data):\n",
    "    x = []\n",
    "    y = []\n",
    "    z = []\n",
    "    for i in data:\n",
    "        temp_x = []\n",
    "        temp_y = []\n",
    "        temp_z = []\n",
    "        for j in i:\n",
    "            temp_x.append(j[0])\n",
    "            temp_y.append(j[1])\n",
    "            temp_z.append(j[2])\n",
    "        x.append(temp_x)\n",
    "        y.append(temp_y)\n",
    "        z.append(temp_z)\n",
    "    return np.array(x), np.array(y), np.array(z)\n",
    "print(xtrain.shape)\n",
    "x_, y_, z_ = sperate_x_y_z(xtrain)"
   ]
  },
  {
   "cell_type": "code",
   "execution_count": 7,
   "metadata": {},
   "outputs": [
    {
     "name": "stdout",
     "output_type": "stream",
     "text": [
      "5000/5000 [100%] ██████████████████████████████ Elapsed: 8s | Loss: 510.179\n"
     ]
    }
   ],
   "source": [
    "# bayesian netword model\n",
    "N = 100   # number of images in a minibatch.\n",
    "D = max([ i.shape[-1] for i in data['xtrain'][0]])  # number of features.\n",
    "K = 20    # number of classes.\n",
    "\n",
    "# Create a placeholder to hold the data (in minibatches) in a TensorFlow graph.\n",
    "x = tf.placeholder(tf.float32, [None, D])\n",
    "# Normal(0,1) priors for the variables. Note that the syntax assumes TensorFlow 1.1.\n",
    "w = Normal(loc=tf.zeros([D, K]), scale=tf.ones([D, K]))\n",
    "b = Normal(loc=tf.zeros(K), scale=tf.ones(K))\n",
    "# Categorical likelihood for classication.\n",
    "y = Categorical(tf.matmul(x,w)+b)\n",
    "\n",
    "# Contruct the q(w) and q(b). in this case we assume Normal distributions.\n",
    "qw = Normal(loc=tf.Variable(tf.random_normal([D, K])),\n",
    "              scale=tf.nn.softplus(tf.Variable(tf.random_normal([D, K]))))\n",
    "qb = Normal(loc=tf.Variable(tf.random_normal([K])),\n",
    "              scale=tf.nn.softplus(tf.Variable(tf.random_normal([K]))))\n",
    "\n",
    "# We use a placeholder for the labels in anticipation of the traning data.\n",
    "y_ph = tf.placeholder(tf.int32, [N])\n",
    "# Define the VI inference technique, ie. minimise the KL divergence between q and p.\n",
    "inference = ed.KLqp({w: qw, b: qb}, data={y:y_ph})\n",
    "\n",
    "# Initialse the infernce variables\n",
    "inference.initialize(n_iter=5000, n_print=100, scale={y: float(xtrain.shape[0]) / N})\n",
    "\n",
    "# We will use an interactive session.\n",
    "sess = tf.InteractiveSession()\n",
    "# Initialise all the vairables in the session.\n",
    "tf.global_variables_initializer().run()\n",
    "\n",
    "# Let the training begin. We load the data in minibatches and update the VI infernce using each new batch.\n",
    "i = 0\n",
    "for _ in range(inference.n_iter):\n",
    "    X_batch, Y_batch, i = get_next(i, N)\n",
    "    # TensorFlow method gives the label data in a one hot vetor format. We convert that into a single label.\n",
    "    info_dict = inference.update(feed_dict={x: X_batch, y_ph: Y_batch-1})\n",
    "    inference.print_progress(info_dict)\n",
    "\n"
   ]
  },
  {
   "cell_type": "code",
   "execution_count": 10,
   "metadata": {},
   "outputs": [
    {
     "name": "stdout",
     "output_type": "stream",
     "text": [
      "0 1 2 3 4 5 6 7 8 9 10 11 12 13 14 15 16 17 18 19 20 21 22 23 24 25 26 27 28 29 30 31 32 33 34 35 36 37 38 39 40 41 42 43 44 45 46 47 48 49 50 51 52 53 54 55 56 57 58 59 60 61 62 63 64 65 66 67 68 69 70 71 72 73 74 75 76 77 78 79 80 81 82 83 84 85 86 87 88 89 90 91 92 93 94 95 96 97 98 99 "
     ]
    }
   ],
   "source": [
    "X_test, Y_test, ii = get_next(1200, 100)\n",
    "X_test = X_test.astype(np.float32)\n",
    "\n",
    "# Generate samples the posterior and store them.\n",
    "n_samples = 100\n",
    "prob_lst = []\n",
    "samples = []\n",
    "w_samples = []\n",
    "b_samples = []\n",
    "for _ in range(n_samples):\n",
    "    print(_, end=\" \")\n",
    "    w_samp = qw.sample()\n",
    "    b_samp = qb.sample()\n",
    "    w_samples.append(w_samp)\n",
    "    b_samples.append(b_samp)\n",
    "    # Also compue the probabiliy of each class for each (w,b) sample.\n",
    "    prob = tf.nn.softmax(tf.matmul( X_test,w_samp ) + b_samp)\n",
    "    prob_lst.append(prob.eval())\n",
    "    sample = tf.concat([tf.reshape(w_samp,[-1]),b_samp],0)\n",
    "    samples.append(sample.eval())"
   ]
  },
  {
   "cell_type": "code",
   "execution_count": 16,
   "metadata": {},
   "outputs": [
    {
     "data": {
      "text/plain": [
       "<matplotlib.text.Text at 0x7f5573eec7f0>"
      ]
     },
     "execution_count": 16,
     "metadata": {},
     "output_type": "execute_result"
    },
    {
     "data": {
      "image/png": "[encoded data removed]",
      "text/plain": [
       "<matplotlib.figure.Figure at 0x7f55f9a31198>"
      ]
     },
     "metadata": {},
     "output_type": "display_data"
    }
   ],
   "source": [
    "# Generate samples the posterior and store them.\n",
    "n_samples = 100\n",
    "prob_lst = []\n",
    "samples = []\n",
    "w_samples = []\n",
    "b_samples = []\n",
    "for _ in range(n_samples):\n",
    "    print(_, end=\" \")\n",
    "    w_samp = qw.sample()\n",
    "    b_samp = qb.sample()\n",
    "    w_samples.append(w_samp)\n",
    "    b_samples.append(b_samp)\n",
    "    # Also compue the probabiliy of each class for each (w,b) sample.\n",
    "    prob = tf.nn.softmax(tf.matmul( X_test,w_samp ) + b_samp)\n",
    "    prob_lst.append(prob.eval())\n",
    "    sample = tf.concat([tf.reshape(w_samp,[-1]),b_samp],0)\n",
    "    samples.append(sample.eval())\n",
    "\n",
    "# Compute the accuracy of the model. \n",
    "# For each sample we compute the predicted class and compare with the test labels.\n",
    "# Predicted class is defined as the one which as maximum proability.\n",
    "# We perform this test for each (w,b) in the posterior giving us a set of accuracies\n",
    "# Finally we make a histogram of accuracies for the test data.\n",
    "accy_test = []\n",
    "for prob in prob_lst:\n",
    "    y_trn_prd = np.argmax(prob,axis=1).astype(np.float32)\n",
    "    acc = (y_trn_prd == Y_test-1).mean()*100\n",
    "    accy_test.append(acc)\n",
    "\n",
    "plt.hist(accy_test)\n",
    "plt.title(\"Histogram of prediction accuracies in the test data(only use X vect)\")\n",
    "plt.xlabel(\"Accuracy\")\n",
    "plt.ylabel(\"Frequency\")"
   ]
  },
  {
   "cell_type": "code",
   "execution_count": null,
   "metadata": {
    "collapsed": true
   },
   "outputs": [],
   "source": []
  }
 ],
 "metadata": {
  "kernelspec": {
   "display_name": "Python 3",
   "language": "python",
   "name": "python3"
  },
  "language_info": {
   "codemirror_mode": {
    "name": "ipython",
    "version": 3
   },
   "file_extension": ".py",
   "mimetype": "text/x-python",
   "name": "python",
   "nbconvert_exporter": "python",
   "pygments_lexer": "ipython3",
   "version": "3.6.1"
  }
 },
 "nbformat": 4,
 "nbformat_minor": 2
}
